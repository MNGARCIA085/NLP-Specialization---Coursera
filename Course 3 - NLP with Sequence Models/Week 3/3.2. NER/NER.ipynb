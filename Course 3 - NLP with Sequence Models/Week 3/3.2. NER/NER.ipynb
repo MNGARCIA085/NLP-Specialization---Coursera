{
 "cells": [
  {
   "cell_type": "markdown",
   "metadata": {
    "colab_type": "text",
    "id": "C7oVbe_pLr3C"
   },
   "source": [
    "# <font color='#1A5276'> <b> <center> Named Entity Recognition (NER) </center> </b>  </font>\n"
   ]
  },
  {
   "cell_type": "markdown",
   "metadata": {},
   "source": [
    "## <font color='blue'> <b> Table of contents </b> </font>\n",
    "- [1 - Introduction](#1)\n",
    "- [2 - Setup](#2)\n",
    "- [3 - Exploring the data](#3)\n",
    "    - [3.1. - Importing the data](#3.1)\n",
    "    - [3.2. - Data Generator](#3.2)\n",
    "- [4 - Building the model](#4)\n",
    "- [5 - Train the model](#5)\n",
    "    - [5.1. - Training the model](#5.1)\n",
    "- [6 - Compute accuracy](#6)\n",
    "- [7 - Testing with your own sentence](#7)"
   ]
  },
  {
   "cell_type": "markdown",
   "metadata": {
    "colab_type": "text",
    "id": "ftT-5-yynCtl"
   },
   "source": [
    "<a name=\"1\"></a>\n",
    "## <font color='blue'> <b> 1. Introduction </b> </font>\n",
    "\n",
    "\n",
    "By completing this assignment, you will be able to: \n",
    "\n",
    "- Design the architecture of a neural network, train it, and test it. \n",
    "- Process features and represents them\n",
    "- Understand word padding\n",
    "- Implement LSTMs\n",
    "- Test with your own sentence\n",
    "\n",
    "We first start by defining named entity recognition (NER). NER is a subtask of information extraction that locates and classifies named entities in a text. The named entities could be organizations, persons, locations, times, etc. \n",
    "\n",
    "For example:\n",
    "\n",
    "<img src = 'images/ner.png' width=\"width\" height=\"height\" style=\"width:600px;height:150px;\"/>\n",
    "\n",
    "Is labeled as follows: \n",
    "\n",
    "- French: geopolitical entity\n",
    "- Morocco: geographic entity \n",
    "- Christmas: time indicator\n",
    "\n",
    "Everything else that is labeled with an `O` is not considered to be a named entity. In this assignment, you will train a named entity recognition system that could be trained in a few seconds (on a GPU) and will get around 75% accuracy. Then, you will load in the exact version of your model, which was trained for a longer period of time. You could then evaluate the trained version of your model to get 96% accuracy! Finally, you will be able to test your named entity recognition system with your own sentence."
   ]
  },
  {
   "cell_type": "markdown",
   "metadata": {},
   "source": [
    "<a name=\"2\"></a>\n",
    "## <font color='blue'> <b> 2. Setup </b> </font>"
   ]
  },
  {
   "cell_type": "code",
   "execution_count": 1,
   "metadata": {
    "colab": {
     "base_uri": "https://localhost:8080/",
     "height": 459
    },
    "colab_type": "code",
    "id": "JEY_jlQQR9SP",
    "outputId": "825f37fd-cf03-483a-a6b1-3d70da6f70f1",
    "scrolled": true
   },
   "outputs": [
    {
     "name": "stderr",
     "output_type": "stream",
     "text": [
      "2024-07-16 18:51:51.911896: E external/local_xla/xla/stream_executor/cuda/cuda_dnn.cc:9261] Unable to register cuDNN factory: Attempting to register factory for plugin cuDNN when one has already been registered\n",
      "2024-07-16 18:51:51.911941: E external/local_xla/xla/stream_executor/cuda/cuda_fft.cc:607] Unable to register cuFFT factory: Attempting to register factory for plugin cuFFT when one has already been registered\n",
      "2024-07-16 18:51:51.925841: E external/local_xla/xla/stream_executor/cuda/cuda_blas.cc:1515] Unable to register cuBLAS factory: Attempting to register factory for plugin cuBLAS when one has already been registered\n",
      "2024-07-16 18:51:52.910233: W tensorflow/compiler/tf2tensorrt/utils/py_utils.cc:38] TF-TRT Warning: Could not find TensorRT\n"
     ]
    }
   ],
   "source": [
    "#!pip -q install trax==1.3.1\n",
    "\n",
    "import trax \n",
    "from trax import layers as tl\n",
    "import os \n",
    "import numpy as np\n",
    "import pandas as pd\n",
    "\n",
    "\n",
    "from utils import get_params, get_vocab\n",
    "import random as rnd\n",
    "\n",
    "# set random seeds to make this notebook easier to replicate\n",
    "#trax.supervised.trainer_lib.init_random_number_generators(33)"
   ]
  },
  {
   "cell_type": "markdown",
   "metadata": {
    "colab_type": "text",
    "id": "_PpjG5MuLr3F"
   },
   "source": [
    "<a name=\"3\"></a>\n",
    "## <font color='blue'> <b> 3. Exploring the data </b> </font>\n",
    "\n",
    "\n",
    "We will be using a dataset from Kaggle, which we will preprocess for you. The original data consists of four columns, the sentence number, the word, the part of speech of the word, and the tags.  A few tags you might expect to see are: \n",
    "\n",
    "* geo: geographical entity\n",
    "* org: organization\n",
    "* per: person \n",
    "* gpe: geopolitical entity\n",
    "* tim: time indicator\n",
    "* art: artifact\n",
    "* eve: event\n",
    "* nat: natural phenomenon\n",
    "* O: filler word\n"
   ]
  },
  {
   "cell_type": "code",
   "execution_count": 2,
   "metadata": {
    "colab": {
     "base_uri": "https://localhost:8080/",
     "height": 170
    },
    "colab_type": "code",
    "id": "-Jur1JnXnCtr",
    "outputId": "88584ab6-0a15-489b-db5b-eb474e129c4f",
    "scrolled": true
   },
   "outputs": [
    {
     "name": "stdout",
     "output_type": "stream",
     "text": [
      "SENTENCE: Thousands of demonstrators have marched through London to protest the war in Iraq and demand the withdrawal of British troops from that country .\n",
      "\n",
      "SENTENCE LABEL: O O O O O O B-geo O O O O O B-geo O O O O O B-gpe O O O O O\n",
      "\n"
     ]
    }
   ],
   "source": [
    "# display original kaggle data\n",
    "#data = pd.read_csv(\"ner_dataset.csv\", encoding = \"ISO-8859-1\") \n",
    "train_sents = open('data/small/train/sentences.txt', 'r').readline()\n",
    "train_labels = open('data/small/train/labels.txt', 'r').readline()\n",
    "print('SENTENCE:', train_sents)\n",
    "print('SENTENCE LABEL:', train_labels)\n",
    "#print('ORIGINAL DATA:\\n', data.head(5))\n",
    "#del(data, train_sents, train_labels)\n",
    "del(train_sents, train_labels)"
   ]
  },
  {
   "cell_type": "markdown",
   "metadata": {
    "colab_type": "text",
    "id": "xoH6yBWVfzTb"
   },
   "source": [
    "<a name=\"3.1\"></a>\n",
    "### <font color='#2E86C1'> <b> 3.1. Importing the data</b> </font>\n",
    "\n",
    "\n",
    "In this part, we will import the preprocessed data and explore it."
   ]
  },
  {
   "cell_type": "code",
   "execution_count": 3,
   "metadata": {
    "colab": {},
    "colab_type": "code",
    "id": "UauHjIKHWC0N",
    "scrolled": true
   },
   "outputs": [],
   "source": [
    "vocab, tag_map = get_vocab('data/large/words.txt', 'data/large/tags.txt')\n",
    "t_sentences, t_labels, t_size = get_params(vocab, tag_map, 'data/large/train/sentences.txt', 'data/large/train/labels.txt')\n",
    "v_sentences, v_labels, v_size = get_params(vocab, tag_map, 'data/large/val/sentences.txt', 'data/large/val/labels.txt')\n",
    "test_sentences, test_labels, test_size = get_params(vocab, tag_map, 'data/large/test/sentences.txt', 'data/large/test/labels.txt')"
   ]
  },
  {
   "cell_type": "markdown",
   "metadata": {
    "colab_type": "text",
    "id": "mcQi6EmWnCty"
   },
   "source": [
    "`vocab` is a dictionary that translates a word string to a unique number. Given a sentence, you can represent it as an array of numbers translating with this dictionary. The dictionary contains a `<PAD>` token. \n",
    "\n",
    "When training an LSTM using batches, all your input sentences must be the same size. To accomplish this, you set the length of your sentences to a certain number and add the generic `<PAD>` token to fill all the empty spaces. "
   ]
  },
  {
   "cell_type": "code",
   "execution_count": 4,
   "metadata": {
    "colab": {
     "base_uri": "https://localhost:8080/",
     "height": 51
    },
    "colab_type": "code",
    "id": "sm2P8y7zNgdU",
    "outputId": "1f1d077a-7c57-42df-fb67-48dd00da39ca",
    "scrolled": true
   },
   "outputs": [
    {
     "name": "stdout",
     "output_type": "stream",
     "text": [
      "vocab[\"the\"]: 9\n",
      "padded token: 35180\n"
     ]
    }
   ],
   "source": [
    "# vocab translates from a word to a unique number\n",
    "print('vocab[\"the\"]:', vocab[\"the\"])\n",
    "# Pad token\n",
    "print('padded token:', vocab['<PAD>'])"
   ]
  },
  {
   "cell_type": "markdown",
   "metadata": {
    "colab_type": "text",
    "id": "IY6BTBjunCt1"
   },
   "source": [
    "The tag_map corresponds to one of the possible tags a word can have. Run the cell below to see the possible classes you will be predicting. The prepositions in the tags mean:\n",
    "* I: Token is inside an entity.\n",
    "* B: Token begins an entity."
   ]
  },
  {
   "cell_type": "code",
   "execution_count": 5,
   "metadata": {
    "colab": {
     "base_uri": "https://localhost:8080/",
     "height": 54
    },
    "colab_type": "code",
    "id": "ZzMamaPcQXWP",
    "outputId": "4f04364c-a88c-4e77-f8bb-9bfcb422d5e9",
    "scrolled": true
   },
   "outputs": [
    {
     "name": "stdout",
     "output_type": "stream",
     "text": [
      "{'O': 0, 'B-geo': 1, 'B-gpe': 2, 'B-per': 3, 'I-geo': 4, 'B-org': 5, 'I-org': 6, 'B-tim': 7, 'B-art': 8, 'I-art': 9, 'I-per': 10, 'I-gpe': 11, 'I-tim': 12, 'B-nat': 13, 'B-eve': 14, 'I-eve': 15, 'I-nat': 16}\n"
     ]
    }
   ],
   "source": [
    "print(tag_map)"
   ]
  },
  {
   "cell_type": "markdown",
   "metadata": {
    "colab_type": "text",
    "id": "3F1sUP_MnCt5"
   },
   "source": [
    "So the coding scheme that tags the entities is a minimal one where B- indicates the first token in a multi-token entity, and I- indicates one in the middle of a multi-token entity. If you had the sentence \n",
    "\n",
    "**\"Sharon flew to Miami on Friday\"**\n",
    "\n",
    "the outputs would look like:\n",
    "\n",
    "```\n",
    "Sharon B-per\n",
    "flew   O\n",
    "to     O\n",
    "Miami  B-geo\n",
    "on     O\n",
    "Friday B-tim\n",
    "```\n",
    "\n",
    "your tags would reflect three tokens beginning with B-, since there are no multi-token entities in the sequence. But if you added Sharon's last name to the sentence: \n",
    "\n",
    "**\"Sharon Floyd flew to Miami on Friday\"**\n",
    "\n",
    "```\n",
    "Sharon B-per\n",
    "Floyd  I-per\n",
    "flew   O\n",
    "to     O\n",
    "Miami  B-geo\n",
    "on     O\n",
    "Friday B-tim\n",
    "```\n",
    "\n",
    "then your tags would change to show first \"Sharon\" as B-per, and \"Floyd\" as I-per, where I- indicates an inner token in a multi-token sequence."
   ]
  },
  {
   "cell_type": "code",
   "execution_count": 6,
   "metadata": {
    "colab": {
     "base_uri": "https://localhost:8080/",
     "height": 136
    },
    "colab_type": "code",
    "id": "xM9B_Rwxd01i",
    "outputId": "db098ed6-4351-41f7-cfdb-e45dd3798ebf",
    "scrolled": true
   },
   "outputs": [
    {
     "name": "stdout",
     "output_type": "stream",
     "text": [
      "The number of outputs is tag_map 17\n",
      "Num of vocabulary words: 35181\n",
      "The vocab size is 35181\n",
      "The training size is 33570\n",
      "The validation size is 7194\n",
      "An example of the first sentence is [0, 1, 2, 3, 4, 5, 6, 7, 8, 9, 10, 11, 12, 13, 14, 9, 15, 1, 16, 17, 18, 19, 20, 21]\n",
      "An example of its corresponding label is [0, 0, 0, 0, 0, 0, 1, 0, 0, 0, 0, 0, 1, 0, 0, 0, 0, 0, 2, 0, 0, 0, 0, 0]\n"
     ]
    }
   ],
   "source": [
    "# Exploring information about the data\n",
    "print('The number of outputs is tag_map', len(tag_map))\n",
    "# The number of vocabulary tokens (including <PAD>)\n",
    "g_vocab_size = len(vocab)\n",
    "print(f\"Num of vocabulary words: {g_vocab_size}\")\n",
    "print('The vocab size is', len(vocab))\n",
    "print('The training size is', t_size)\n",
    "print('The validation size is', v_size)\n",
    "print('An example of the first sentence is', t_sentences[0])\n",
    "print('An example of its corresponding label is', t_labels[0])"
   ]
  },
  {
   "cell_type": "markdown",
   "metadata": {
    "colab_type": "text",
    "id": "IPd5a-4_nCt8"
   },
   "source": [
    "So you can see that we have already encoded each sentence into a tensor by converting it into a number. We also have 16 possible classes, as shown in the tag map.\n",
    "\n",
    "\n",
    "\n",
    "<a name=\"3.2\"></a>\n",
    "### <font color='#2E86C1'> <b> 3.2. Data Generator </b> </font>\n",
    "\n",
    "\n",
    "In python, a generator is a function that behaves like an iterator. It will return the next item. Here is a [link](https://wiki.python.org/moin/Generators) to review python generators. \n",
    "\n",
    "In many AI applications it is very useful to have a data generator. You will now implement a data generator for our NER application.\n",
    "\n",
    "\n",
    "### Exercise 01\n",
    "\n",
    "**Instructions:** Implement a data generator function that takes in `batch_size, x, y, pad, shuffle` where x is a large list of sentences, and y is a list of the tags associated with those sentences and pad is a pad value. Return a subset of those inputs in a tuple of two arrays `(X,Y)`. Each is an array of dimension (`batch_size, max_len`), where `max_len` is the length of the longest sentence *in that batch*. You will pad the X and Y examples with the pad argument. If `shuffle=True`, the data will be traversed in a random form.\n",
    "\n",
    "**Details:**\n",
    "\n",
    "This code as an outer loop  \n",
    "```\n",
    "while True:  \n",
    "...  \n",
    "yield((X,Y))  \n",
    "```\n",
    "\n",
    "Which runs continuously in the fashion of generators, pausing when yielding the next values. We will generate a batch_size output on each pass of this loop.    \n",
    "\n",
    "It has two inner loops. \n",
    "1. The first stores in temporal lists the data samples to be included in the next batch, and finds the maximum length of the sentences contained in it. By adjusting the length to include only the size of the longest sentence in each batch, overall computation is reduced. \n",
    "\n",
    "2. The second loop moves those inputs from the temporal list into NumPy arrays pre-filled with pad values.\n",
    "\n",
    "There are three slightly out of the ordinary features. \n",
    "1. The first is the use of the NumPy `full` function to fill the NumPy arrays with a pad value. See [full function documentation](https://numpy.org/doc/1.18/reference/generated/numpy.full.html).\n",
    "\n",
    "2. The second is tracking the current location in the incoming lists of sentences. Generators variables hold their values between invocations, so we create an `index` variable, initialize to zero, and increment by one for each sample included in a batch. However, we do not use the `index` to access the positions of the list of sentences directly. Instead, we use it to select one index from a list of indexes. In this way, we can change the order in which we traverse our original list, keeping untouched our original list.  \n",
    "\n",
    "3. The third also relates to wrapping. Because `batch_size` and the length of the input lists are not aligned, gathering a batch_size group of inputs may involve wrapping back to the beginning of the input loop. In our approach, it is just enough to reset the `index` to 0. We can re-shuffle the list of indexes to produce different batches each time."
   ]
  },
  {
   "cell_type": "code",
   "execution_count": 7,
   "metadata": {
    "colab": {},
    "colab_type": "code",
    "id": "tP7zQC8knCt_",
    "scrolled": true
   },
   "outputs": [],
   "source": [
    "def data_generator(batch_size, x, y, pad, shuffle=False, verbose=False):\n",
    "    '''\n",
    "      Input: \n",
    "        batch_size - integer describing the batch size\n",
    "        x - list containing sentences where words are represented as integers\n",
    "        y - list containing tags associated with the sentences\n",
    "        shuffle - Shuffle the data order\n",
    "        pad - an integer representing a pad character\n",
    "        verbose - Print information during runtime\n",
    "      Output:\n",
    "        a tuple containing 2 elements:\n",
    "        X - np.ndarray of dim (batch_size, max_len) of padded sentences\n",
    "        Y - np.ndarray of dim (batch_size, max_len) of tags associated with the sentences in X\n",
    "    '''\n",
    "    \n",
    "    # count the number of lines in data_lines\n",
    "    num_lines = len(x)\n",
    "    \n",
    "    # create an array with the indexes of data_lines that can be shuffled\n",
    "    lines_index = [*range(num_lines)]\n",
    "    \n",
    "    # shuffle the indexes if shuffle is set to True\n",
    "    if shuffle:\n",
    "        rnd.shuffle(lines_index)\n",
    "    \n",
    "    index = 0 # tracks current location in x, y\n",
    "    while True:\n",
    "        buffer_x = [0] * batch_size # Temporal array to store the raw x data for this batch\n",
    "        buffer_y = [0] * batch_size # Temporal array to store the raw y data for this batch\n",
    "                \n",
    "\n",
    "        \n",
    "        # Copy into the temporal buffers the sentences in x[index : index + batch_size] \n",
    "        # along with their corresponding labels y[index : index + batch_size]\n",
    "        # Find maximum length of sentences in x[index : index + batch_size] for this batch. \n",
    "        # Reset the index if we reach the end of the data set, and shuffle the indexes if needed.\n",
    "        max_len = 0\n",
    "        for i in range(batch_size):\n",
    "             # if the index is greater than or equal to the number of lines in x\n",
    "            if index >= num_lines:\n",
    "                # then reset the index to 0\n",
    "                index = 0\n",
    "                # re-shuffle the indexes if shuffle is set to True\n",
    "                if shuffle:\n",
    "                    rnd.shuffle(lines_index)\n",
    "            \n",
    "            # The current position is obtained using `lines_index[index]`\n",
    "            # Store the x value at the current position into the buffer_x\n",
    "            buffer_x[i] = x[lines_index[index]]\n",
    "            \n",
    "            # Store the y value at the current position into the buffer_y\n",
    "            buffer_y[i] = y[lines_index[index]]\n",
    "            \n",
    "            lenx = len(x[lines_index[index]])    #length of current x[]\n",
    "            if lenx > max_len:\n",
    "                max_len = lenx                   #max_len tracks longest x[]\n",
    "            \n",
    "            # increment index by one\n",
    "            index += 1\n",
    "\n",
    "\n",
    "        # create X,Y, NumPy arrays of size (batch_size, max_len) 'full' of pad value\n",
    "        X = np.full((batch_size, max_len), pad)\n",
    "        Y = np.full((batch_size, max_len), pad)\n",
    "\n",
    "        # copy values from lists to NumPy arrays. Use the buffered values\n",
    "        for i in range(batch_size):\n",
    "            # get the example (sentence as a tensor)\n",
    "            # in `buffer_x` at the `i` index\n",
    "            x_i = buffer_x[i]\n",
    "            \n",
    "            # similarly, get the example's labels\n",
    "            # in `buffer_y` at the `i` index\n",
    "            y_i = buffer_y[i]\n",
    "            \n",
    "            # Walk through each word in x_i\n",
    "            for j in range(len(x_i)):\n",
    "                # store the word in x_i at position j into X\n",
    "                X[i, j] = x_i[j]\n",
    "                \n",
    "                # store the label in y_i at position j into Y\n",
    "                Y[i, j] = y_i[j]\n",
    "\n",
    "        if verbose: print(\"index=\", index)\n",
    "        yield((X,Y))"
   ]
  },
  {
   "cell_type": "code",
   "execution_count": 8,
   "metadata": {
    "colab": {
     "base_uri": "https://localhost:8080/",
     "height": 170
    },
    "colab_type": "code",
    "id": "s3fwE3PMhOW4",
    "outputId": "12022225-1498-4acb-c0c8-cd02b71c091d",
    "scrolled": true
   },
   "outputs": [
    {
     "name": "stdout",
     "output_type": "stream",
     "text": [
      "index= 5\n",
      "index= 2\n",
      "(5, 30) (5, 30) (5, 30) (5, 30)\n",
      "[    0     1     2     3     4     5     6     7     8     9    10    11\n",
      "    12    13    14     9    15     1    16    17    18    19    20    21\n",
      " 35180 35180 35180 35180 35180 35180] \n",
      " [    0     0     0     0     0     0     1     0     0     0     0     0\n",
      "     1     0     0     0     0     0     2     0     0     0     0     0\n",
      " 35180 35180 35180 35180 35180 35180]\n"
     ]
    }
   ],
   "source": [
    "batch_size = 5\n",
    "mini_sentences = t_sentences[0: 8]\n",
    "mini_labels = t_labels[0: 8]\n",
    "dg = data_generator(batch_size, mini_sentences, mini_labels, vocab[\"<PAD>\"], shuffle=False, verbose=True)\n",
    "X1, Y1 = next(dg)\n",
    "X2, Y2 = next(dg)\n",
    "print(Y1.shape, X1.shape, Y2.shape, X2.shape)\n",
    "print(X1[0][:], \"\\n\", Y1[0][:])"
   ]
  },
  {
   "cell_type": "markdown",
   "metadata": {
    "colab_type": "text",
    "id": "W-qWOhFunCuH"
   },
   "source": [
    "**Expected output:**   \n",
    "```\n",
    "index= 5\n",
    "index= 2\n",
    "(5, 30) (5, 30) (5, 30) (5, 30)\n",
    "[    0     1     2     3     4     5     6     7     8     9    10    11\n",
    "    12    13    14     9    15     1    16    17    18    19    20    21\n",
    " 35180 35180 35180 35180 35180 35180] \n",
    " [    0     0     0     0     0     0     1     0     0     0     0     0\n",
    "     1     0     0     0     0     0     2     0     0     0     0     0\n",
    " 35180 35180 35180 35180 35180 35180]  \n",
    "```"
   ]
  },
  {
   "cell_type": "markdown",
   "metadata": {
    "colab_type": "text",
    "id": "4SWxKhkVLr3P"
   },
   "source": [
    "<a name=\"4\"></a>\n",
    "## <font color='blue'> <b> 4. Building the model </b> </font>\n",
    "\n",
    "\n",
    "You will now implement the model. You will be using Google's TensorFlow. Your model will be able to distinguish the following:\n",
    "<table>\n",
    "    <tr>\n",
    "        <td>\n",
    "<img src = 'images/ner1.png' width=\"width\" height=\"height\" style=\"width:500px;height:150px;\"/>\n",
    "        </td>\n",
    "    </tr>\n",
    "</table>\n",
    "\n",
    "The model architecture will be as follows: \n",
    "\n",
    "<img src = 'images/ner2.png' width=\"width\" height=\"height\" style=\"width:600px;height:250px;\"/>\n",
    "\n",
    "Concretely: \n",
    "\n",
    "* Use the input tensors you built in your data generator\n",
    "* Feed it into an Embedding layer, to produce more semantic entries\n",
    "* Feed it into an LSTM layer\n",
    "* Run the output through a linear layer\n",
    "* Run the result through a log softmax layer to get the predicted class for each word.\n",
    "\n",
    "Good news! We won't make you implement the LSTM unit drawn above. However, we will ask you to build the model. \n",
    "\n",
    "<a name=\"ex02\"></a>\n",
    "### Exercise 02\n",
    "\n",
    "**Instructions:** Implement the initialization step and the forward function of your Named Entity Recognition system.  \n",
    "Please utilize help function e.g. `help(tl.Dense)` for more information on a layer\n",
    "   \n",
    "- [tl.Serial](https://github.com/google/trax/blob/1372b903bb66b0daccee19fd0b1fdf44f659330b/trax/layers/combinators.py#L26): Combinator that applies layers serially (by function composition).\n",
    "    - You can pass in the layers as arguments to `Serial`, separated by commas. \n",
    "    - For example: `tl.Serial(tl.Embeddings(...), tl.Mean(...), tl.Dense(...), tl.LogSoftmax(...))` \n",
    "\n",
    "\n",
    "-  [tl.Embedding](https://github.com/google/trax/blob/1372b903bb66b0daccee19fd0b1fdf44f659330b/trax/layers/core.py#L113): Initializes the embedding. In this case it is the dimension of the model by the size of the vocabulary. \n",
    "    - `tl.Embedding(vocab_size, d_feature)`.\n",
    "    - `vocab_size` is the number of unique words in the given vocabulary.\n",
    "    - `d_feature` is the number of elements in the word embedding (some choices for a word embedding size range from 150 to 300, for example).\n",
    "    \n",
    "\n",
    "-  [tl.LSTM](https://github.com/google/trax/blob/1372b903bb66b0daccee19fd0b1fdf44f659330b/trax/layers/rnn.py#L87):`Trax` LSTM layer of size d_model. \n",
    "    - `LSTM(n_units)` Builds an LSTM layer of n_cells.\n",
    "\n",
    "\n",
    "\n",
    "-  [tl.Dense](https://github.com/google/trax/blob/1372b903bb66b0daccee19fd0b1fdf44f659330b/trax/layers/core.py#L28):  A dense layer.\n",
    "    - `tl.Dense(n_units)`: The parameter `n_units` is the number of units chosen for this dense layer.  \n",
    "\n",
    "\n",
    "- [tl.LogSoftmax](https://github.com/google/trax/blob/1372b903bb66b0daccee19fd0b1fdf44f659330b/trax/layers/core.py#L242): Log of the output probabilities.\n",
    "    - Here, you don't need to set any parameters for `LogSoftMax()`.\n",
    " \n",
    "\n",
    "**Online documentation**\n",
    "\n",
    "- [tl.Serial](https://trax-ml.readthedocs.io/en/latest/trax.layers.html#module-trax.layers.combinators)\n",
    "\n",
    "- [tl.Embedding](https://trax-ml.readthedocs.io/en/latest/trax.layers.html#trax.layers.core.Embedding)\n",
    "\n",
    "-  [tl.LSTM](https://trax-ml.readthedocs.io/en/latest/trax.layers.html#trax.layers.rnn.LSTM)\n",
    "\n",
    "-  [tl.Dense](https://trax-ml.readthedocs.io/en/latest/trax.layers.html#trax.layers.core.Dense)\n",
    "\n",
    "- [tl.LogSoftmax](https://trax-ml.readthedocs.io/en/latest/trax.layers.html#trax.layers.core.LogSoftmax)    "
   ]
  },
  {
   "cell_type": "code",
   "execution_count": 10,
   "metadata": {
    "colab": {},
    "colab_type": "code",
    "id": "vL5u72u8Lr3Q",
    "scrolled": true
   },
   "outputs": [],
   "source": [
    "def NER(vocab_size=35181, d_model=50, tags=tag_map):\n",
    "    '''\n",
    "      Input: \n",
    "        vocab_size - integer containing the size of the vocabulary\n",
    "        d_model - integer describing the embedding size\n",
    "      Output:\n",
    "        model - a trax serial model\n",
    "    '''\n",
    "    model = tl.Serial(\n",
    "      tl.Embedding(vocab_size, d_model), # Embedding layer\n",
    "      tl.LSTM(d_model), # LSTM layer\n",
    "      tl.Dense(len(tags)), # Dense layer with len(tags) units\n",
    "      tl.LogSoftmax()  # LogSoftmax layer\n",
    "      )\n",
    "    return model"
   ]
  },
  {
   "cell_type": "code",
   "execution_count": 11,
   "metadata": {
    "colab": {
     "base_uri": "https://localhost:8080/",
     "height": 119
    },
    "colab_type": "code",
    "id": "BrGdYpPvLr3U",
    "outputId": "3a3e721c-8e63-40ac-f8fa-e500f0abdad5",
    "scrolled": true
   },
   "outputs": [
    {
     "name": "stdout",
     "output_type": "stream",
     "text": [
      "Serial[\n",
      "  Embedding_35181_50\n",
      "  LSTM_50\n",
      "  Dense_17\n",
      "  LogSoftmax\n",
      "]\n"
     ]
    }
   ],
   "source": [
    "# initializing your model\n",
    "model = NER()\n",
    "# display your model\n",
    "print(model)"
   ]
  },
  {
   "cell_type": "markdown",
   "metadata": {
    "colab_type": "text",
    "id": "p636VCSanCuS"
   },
   "source": [
    "**Expected output:**  \n",
    "```\n",
    "Serial[\n",
    "  Embedding_35181_50\n",
    "  LSTM_50\n",
    "  Dense_17\n",
    "  LogSoftmax\n",
    "]\n",
    "```  \n"
   ]
  },
  {
   "cell_type": "markdown",
   "metadata": {
    "colab_type": "text",
    "id": "4LkjXxxhLr3Z"
   },
   "source": [
    "<a name=\"5\"></a>\n",
    "## <font color='blue'> <b> 5. Train the model </b> </font>\n",
    "\n",
    "This section will train your model.\n",
    "\n",
    "Before you start, you need to create the data generators for training and validation data. It is important that you mask padding in the loss weights of your data, which can be done using the `id_to_mask` argument of `trax.supervised.inputs.add_loss_weights`."
   ]
  },
  {
   "cell_type": "code",
   "execution_count": 13,
   "metadata": {
    "colab": {},
    "colab_type": "code",
    "id": "lPBR1YrRmEAH",
    "scrolled": true
   },
   "outputs": [],
   "source": [
    "from trax.supervised import training\n",
    "from trax.data import inputs\n",
    "\n",
    "rnd.seed(33)\n",
    "\n",
    "batch_size = 64\n",
    "\n",
    "# Create training data, mask pad id=35180 for training.\n",
    "train_generator = inputs.add_loss_weights(\n",
    "    data_generator(batch_size, t_sentences, t_labels, vocab['<PAD>'], True),\n",
    "    id_to_mask=vocab['<PAD>'])\n",
    "\n",
    "# Create validation data, mask pad id=35180 for training.\n",
    "eval_generator = inputs.add_loss_weights(\n",
    "    data_generator(batch_size, v_sentences, v_labels, vocab['<PAD>'], True),\n",
    "    id_to_mask=vocab['<PAD>'])"
   ]
  },
  {
   "cell_type": "markdown",
   "metadata": {
    "colab_type": "text",
    "id": "-SdkBrFVnCuV"
   },
   "source": [
    "<a name=\"5.1\"></a>\n",
    "### <font color='#2E86C1'> <b> 5.1. Training the model </b> </font>\n",
    "\n",
    "\n",
    "You will now write a function that takes in your model and trains it.\n",
    "\n",
    "As you've seen in the previous assignments, you will first create the [TrainTask](https://trax-ml.readthedocs.io/en/stable/trax.supervised.html#trax.supervised.training.TrainTask) and [EvalTask](https://trax-ml.readthedocs.io/en/stable/trax.supervised.html#trax.supervised.training.EvalTask) using your data generator. Then you will use the `training.Loop` to train your model.\n",
    "\n",
    "<a name=\"ex03\"></a>\n",
    "### Exercise 03\n",
    "\n",
    "**Instructions:** Implement the `train_model` program below to train the neural network above. Here is a list of things you should do: \n",
    "- Create the trainer object by calling [`trax.supervised.training.Loop`](https://trax-ml.readthedocs.io/en/latest/trax.supervised.html#trax.supervised.training.Loop) and pass in the following:\n",
    "\n",
    "    - model = [NER](#ex02)\n",
    "    - [training task](https://trax-ml.readthedocs.io/en/latest/trax.supervised.html#trax.supervised.training.TrainTask) that uses the train data generator defined in the cell above\n",
    "        - loss_layer = [tl.CrossEntropyLoss()](https://github.com/google/trax/blob/22765bb18608d376d8cd660f9865760e4ff489cd/trax/layers/metrics.py#L71)\n",
    "        - optimizer = [trax.optimizers.Adam(0.01)](https://github.com/google/trax/blob/03cb32995e83fc1455b0c8d1c81a14e894d0b7e3/trax/optimizers/adam.py#L23)\n",
    "    - [evaluation task](https://trax-ml.readthedocs.io/en/latest/trax.supervised.html#trax.supervised.training.EvalTask) that uses the validation data generator defined in the cell above\n",
    "        - metrics for `EvalTask`: `tl.CrossEntropyLoss()` and `tl.Accuracy()`\n",
    "        - in `EvalTask` set `n_eval_batches=10` for better evaluation accuracy\n",
    "    - output_dir = output_dir\n",
    "\n",
    "You'll be using a [cross entropy loss](https://trax-ml.readthedocs.io/en/latest/trax.layers.html#trax.layers.metrics.CrossEntropyLoss), with an [Adam optimizer](https://trax-ml.readthedocs.io/en/latest/trax.optimizers.html#trax.optimizers.adam.Adam). Please read the [trax](https://trax-ml.readthedocs.io/en/latest/trax.html) documentation to get a full understanding. The [trax GitHub](https://github.com/google/trax) also contains some useful information and a link to a colab notebook."
   ]
  },
  {
   "cell_type": "code",
   "execution_count": 18,
   "metadata": {
    "colab": {},
    "colab_type": "code",
    "id": "WV27PerULr3a",
    "scrolled": true
   },
   "outputs": [],
   "source": [
    "def train_model(NER, train_generator, eval_generator, train_steps=1, output_dir='model'):\n",
    "    '''\n",
    "    Input: \n",
    "        NER - the model you are building\n",
    "        train_generator - The data generator for training examples\n",
    "        eval_generator - The data generator for validation examples,\n",
    "        train_steps - number of training steps\n",
    "        output_dir - folder to save your model\n",
    "    Output:\n",
    "        training_loop - a trax supervised training Loop\n",
    "    '''\n",
    "\n",
    "    train_task = training.TrainTask(\n",
    "      train_generator, # A train data generator\n",
    "      loss_layer = tl.CrossEntropyLoss(), # A cross-entropy loss function\n",
    "      optimizer = trax.optimizers.Adam(0.01),  # The adam optimizer\n",
    "    )\n",
    "\n",
    "    eval_task = training.EvalTask(\n",
    "      labeled_data = eval_generator, # A labeled data generator\n",
    "      metrics = [tl.CrossEntropyLoss(), tl.Accuracy()], # Evaluate with cross-entropy loss and accuracy\n",
    "      n_eval_batches = 10  # Number of batches to use on each evaluation\n",
    "    )\n",
    "\n",
    "    training_loop = training.Loop(\n",
    "        NER, # A model to train\n",
    "        train_task, # A train task\n",
    "        eval_tasks = eval_task, # The evaluation task\n",
    "        output_dir = output_dir) # The output directory\n",
    "\n",
    "    # Train with train_steps\n",
    "    training_loop.run(n_steps = train_steps)\n",
    "\n",
    "    return training_loop"
   ]
  },
  {
   "cell_type": "markdown",
   "metadata": {
    "colab_type": "text",
    "id": "4tIc4nuonCue"
   },
   "source": [
    "On your local machine, you can run this training for 1000 train_steps and get your own model. This training takes about 5 to 10 minutes to run."
   ]
  },
  {
   "cell_type": "code",
   "execution_count": 20,
   "metadata": {
    "colab": {
     "base_uri": "https://localhost:8080/",
     "height": 578
    },
    "colab_type": "code",
    "id": "VU-j8hs-nCue",
    "outputId": "fbbbda7d-b6dd-42e4-a4c6-58c0a6e349b6"
   },
   "outputs": [
    {
     "name": "stderr",
     "output_type": "stream",
     "text": [
      "/usr/lib/python3.10/pty.py:89: RuntimeWarning: os.fork() was called. os.fork() is incompatible with multithreaded code, and JAX is multithreaded, so this will likely lead to a deadlock.\n",
      "  pid, fd = os.forkpty()\n",
      "/home/marcos/.local/lib/python3.10/site-packages/jax/_src/xla_bridge.py:1183: UserWarning: jax.host_count has been renamed to jax.process_count. This alias will eventually be removed; please update your code.\n",
      "  warnings.warn(\n",
      "/home/marcos/.local/lib/python3.10/site-packages/trax/layers/base.py:851: FutureWarning: GzipFile was opened for writing, but this will change in future Python releases.  Specify the mode argument for opening it for writing.\n",
      "  with gzip.GzipFile(fileobj=f, compresslevel=compresslevel) as gzipf:\n"
     ]
    },
    {
     "name": "stdout",
     "output_type": "stream",
     "text": [
      "\n",
      "Step      1: Total number of trainable weights: 1780117\n",
      "Step      1: Ran 1 train steps in 1.26 secs\n",
      "Step      1: train CrossEntropyLoss |  2.96835184\n"
     ]
    },
    {
     "name": "stderr",
     "output_type": "stream",
     "text": [
      "/home/marcos/.local/lib/python3.10/site-packages/trax/supervised/training.py:1249: FutureWarning: GzipFile was opened for writing, but this will change in future Python releases.  Specify the mode argument for opening it for writing.\n",
      "  with gzip_lib.GzipFile(fileobj=f, compresslevel=2) as gzipf:\n"
     ]
    },
    {
     "name": "stdout",
     "output_type": "stream",
     "text": [
      "Step      1: eval  CrossEntropyLoss |  1.92340946\n",
      "Step      1: eval          Accuracy |  0.75628184\n"
     ]
    }
   ],
   "source": [
    "train_steps = 50            # In coursera we can only train 100 steps\n",
    "!rm -f 'model/model.pkl.gz'  # Remove old model.pkl if it exists\n",
    "\n",
    "# Train the model\n",
    "training_loop = train_model(NER(), train_generator, eval_generator, train_steps)"
   ]
  },
  {
   "cell_type": "markdown",
   "metadata": {
    "colab_type": "text",
    "id": "p1QvV66ZLr3i"
   },
   "source": [
    "**Expected output (Approximately)**\n",
    "\n",
    "```\n",
    "...\n",
    "Step      1: train CrossEntropyLoss |  2.94375849\n",
    "Step      1: eval  CrossEntropyLoss |  1.93172036\n",
    "Step      1: eval          Accuracy |  0.78727312\n",
    "Step    100: train CrossEntropyLoss |  0.57727730\n",
    "Step    100: eval  CrossEntropyLoss |  0.36356260\n",
    "Step    100: eval          Accuracy |  0.90943187\n",
    "...\n",
    "```\n",
    "This value may change between executions, but it must be around 90% of accuracy on train and validations sets, after 100 training steps."
   ]
  },
  {
   "cell_type": "markdown",
   "metadata": {
    "colab_type": "text",
    "id": "lQTurbC0nCuh"
   },
   "source": [
    "We have trained the model longer, and we give you such a trained model."
   ]
  },
  {
   "cell_type": "code",
   "execution_count": 25,
   "metadata": {
    "colab": {},
    "colab_type": "code",
    "id": "ecIG67nenCui",
    "scrolled": true
   },
   "outputs": [
    {
     "data": {
      "text/plain": [
       "((array([[ 1.6746343 , -1.2386736 , -1.2588062 , ..., -0.00851805,\n",
       "          -0.58789647,  0.21786927],\n",
       "         [-0.49910122,  0.7476655 , -1.341309  , ...,  1.2629304 ,\n",
       "           1.0195953 ,  0.9969896 ],\n",
       "         [ 0.27949372,  0.5704571 ,  0.6879833 , ..., -1.8033195 ,\n",
       "           0.10972298, -0.8717324 ],\n",
       "         ...,\n",
       "         [ 0.26727983, -0.4827838 ,  1.8206602 , ..., -1.4759233 ,\n",
       "          -0.7623981 , -2.1510365 ],\n",
       "         [ 0.09075634, -0.3017605 ,  0.97404975, ...,  0.9246912 ,\n",
       "           0.73218006, -1.1800029 ],\n",
       "         [ 0.20993397,  0.7626188 , -2.4542587 , ...,  1.3712136 ,\n",
       "           0.07566787, -1.3855839 ]], dtype=float32),\n",
       "  (((), ((), ())),\n",
       "   ((array([[ 0.05901118, -0.1423949 , -0.20627049, ..., -0.32257217,\n",
       "              0.27084   ,  0.06706806],\n",
       "            [ 0.05068694, -0.15523194, -0.08237975, ...,  0.31102452,\n",
       "              0.2882233 , -0.06509141],\n",
       "            [ 0.10575256, -0.00132665, -0.0978074 , ..., -0.02731692,\n",
       "              0.37720057,  0.20220405],\n",
       "            ...,\n",
       "            [ 0.06955975,  0.05038718,  0.00809075, ..., -0.17892614,\n",
       "             -0.1125576 ,  0.16624221],\n",
       "            [ 0.0925855 ,  0.01816798,  0.13427216, ..., -0.04590603,\n",
       "             -0.03070365, -0.16741735],\n",
       "            [-0.02088019,  0.1033225 ,  0.00999374, ..., -0.08564929,\n",
       "             -0.12800378, -0.08394144]], dtype=float32),\n",
       "     array([1.2166972 , 1.1198238 , 1.14041   , 1.1536535 , 1.1488217 ,\n",
       "            1.1300017 , 1.1532853 , 0.909749  , 0.9279805 , 1.1298306 ,\n",
       "            0.9496401 , 1.2666935 , 0.98028433, 0.91012985, 1.181756  ,\n",
       "            0.94602877, 0.90251434, 1.135856  , 0.92630154, 0.8929287 ,\n",
       "            1.1372043 , 0.88441634, 0.9584796 , 0.9083954 , 0.92916816,\n",
       "            1.1747289 , 1.0702598 , 0.9726194 , 1.0574019 , 1.1623206 ,\n",
       "            1.1654482 , 1.2110639 , 0.87514675, 0.9184457 , 0.93407565,\n",
       "            1.1408814 , 1.3863534 , 1.2671291 , 1.1174158 , 1.0817585 ,\n",
       "            0.97769845, 1.0690612 , 0.91638273, 0.9290998 , 1.0777317 ,\n",
       "            1.2229553 , 1.2426646 , 0.8727372 , 1.0073193 , 1.287287  ,\n",
       "            1.2530644 , 1.1178386 , 1.0880198 , 1.1186492 , 1.1084569 ,\n",
       "            1.1369814 , 1.1409984 , 0.8747143 , 0.78755116, 1.0862954 ,\n",
       "            0.80579   , 1.2144746 , 0.986115  , 0.87581486, 1.1116911 ,\n",
       "            0.9296571 , 0.8966144 , 1.0978467 , 0.8708359 , 0.89847505,\n",
       "            1.1293904 , 0.883864  , 0.8267857 , 0.89377254, 0.86729383,\n",
       "            1.1252403 , 0.79441154, 0.93740475, 1.0304189 , 1.1381772 ,\n",
       "            1.1527786 , 1.2020729 , 0.886892  , 0.905284  , 0.92410564,\n",
       "            1.0981483 , 1.1393683 , 1.052221  , 1.0956081 , 1.0235901 ,\n",
       "            0.91038555, 0.99041736, 0.8530322 , 0.8715399 , 1.0727789 ,\n",
       "            1.155396  , 1.2450352 , 0.91642916, 0.9535932 , 1.2133809 ,\n",
       "            1.0897416 , 1.079637  , 1.0850402 , 1.0823039 , 1.0720527 ,\n",
       "            1.0792435 , 1.0690204 , 0.91596097, 0.93166244, 1.0561833 ,\n",
       "            0.94461584, 1.0823773 , 0.96597785, 0.8785833 , 1.0722159 ,\n",
       "            0.9259116 , 0.9044186 , 1.0687925 , 0.9198704 , 0.8917522 ,\n",
       "            1.0807016 , 0.8948266 , 0.91825813, 0.8855705 , 0.9073653 ,\n",
       "            1.0775629 , 0.9635031 , 0.9280609 , 1.0279565 , 1.0526432 ,\n",
       "            1.0582528 , 1.0967209 , 0.9570658 , 0.9449676 , 0.8984081 ,\n",
       "            1.0917859 , 1.0287099 , 1.0503827 , 1.0381315 , 0.94666606,\n",
       "            0.8929169 , 0.88443303, 0.9937535 , 0.90206784, 1.0632603 ,\n",
       "            1.0446212 , 1.0249838 , 1.0372443 , 0.9509348 , 1.0768285 ,\n",
       "            1.153624  , 1.0612748 , 1.0695988 , 1.0850044 , 1.0411247 ,\n",
       "            1.0651532 , 1.0439564 , 1.0303713 , 0.9201077 , 1.0763158 ,\n",
       "            0.9624678 , 1.095338  , 0.97081095, 0.9045661 , 1.1948195 ,\n",
       "            0.9316711 , 0.9084557 , 1.1074972 , 0.93569964, 0.91312325,\n",
       "            1.0579488 , 0.9101048 , 0.98247504, 0.9040984 , 0.92404485,\n",
       "            1.0634172 , 1.0744199 , 0.9819375 , 1.03213   , 1.0617468 ,\n",
       "            1.0168128 , 1.0939844 , 0.9734143 , 0.9212131 , 0.92759806,\n",
       "            1.086521  , 1.0417864 , 1.0593591 , 1.0632937 , 1.040211  ,\n",
       "            0.9607936 , 1.0275477 , 1.0359868 , 0.9163962 , 0.97796315,\n",
       "            0.9085399 , 1.0288117 , 1.0828137 , 0.9893802 , 1.0035591 ],\n",
       "           dtype=float32)),),\n",
       "   ()),\n",
       "  (array([[ 0.09218292,  0.02372216, -0.4126898 , -0.03376668,  0.01392143,\n",
       "            0.21646506,  0.073108  , -0.08914965, -0.24207686, -0.34417182,\n",
       "            0.02314927, -0.40098616,  0.06505391, -0.18319298, -0.39193407,\n",
       "           -0.19071344, -0.28187266],\n",
       "          [ 0.22493766, -0.08878592, -0.3506777 ,  0.00757164, -0.27941668,\n",
       "            0.2549976 ,  0.02637072,  0.25970033,  0.05722102,  0.07295887,\n",
       "            0.01086988, -0.17124717, -0.09035722, -0.16710012, -0.06874781,\n",
       "           -0.15677842, -0.48993042],\n",
       "          [ 0.34597299,  0.15530582,  0.27670664,  0.10116075, -0.09024598,\n",
       "           -0.21077673, -0.06252017,  0.22835918, -0.3699761 ,  0.04259112,\n",
       "            0.25077233, -0.12890457, -0.2206221 , -0.23706582, -0.2720021 ,\n",
       "           -0.21602717, -0.31174487],\n",
       "          [ 0.19602911,  0.13875836, -0.04053864, -0.04383463, -0.12378058,\n",
       "            0.07901208, -0.1720395 , -0.34259048, -0.35789096, -0.19914985,\n",
       "           -0.00767879, -0.29636553,  0.15301457, -0.42158678, -0.36156318,\n",
       "           -0.441366  , -0.4052668 ],\n",
       "          [ 0.18242112, -0.07131056, -0.04781421, -0.17871326,  0.04070726,\n",
       "            0.3212136 , -0.29006135,  0.09286902, -0.20828553, -0.02985372,\n",
       "            0.05006123,  0.03929238, -0.18057439,  0.08199719, -0.41005448,\n",
       "           -0.36178368,  0.00959966],\n",
       "          [ 0.35080943, -0.00868584, -0.12672314,  0.36006445, -0.13575457,\n",
       "            0.15808018, -0.08519173, -0.39424235, -0.385332  ,  0.05890575,\n",
       "           -0.02069221, -0.18242551, -0.2688105 , -0.46400803, -0.44363776,\n",
       "           -0.08441466, -0.25020522],\n",
       "          [ 0.4204931 ,  0.04264574, -0.41610637, -0.0322952 , -0.09201286,\n",
       "           -0.2033633 ,  0.06331017, -0.18959473, -0.23260961,  0.05963758,\n",
       "            0.00447308, -0.41572708,  0.2153419 ,  0.00466366, -0.05382946,\n",
       "           -0.01121606, -0.2930169 ],\n",
       "          [ 0.02015104, -0.58500576,  0.33810347, -0.4522643 , -0.2505041 ,\n",
       "            0.13445967, -0.00997824, -0.44047967, -0.16822685,  0.07800296,\n",
       "           -0.13944077, -0.06127792, -0.27161878, -0.19063395, -0.17770371,\n",
       "           -0.363431  , -0.2872942 ],\n",
       "          [ 0.08662256,  0.46930277, -0.40392494,  0.14622259,  0.00531695,\n",
       "           -0.03573557,  0.12810422, -0.14768207, -0.3692897 ,  0.11220729,\n",
       "           -0.0795017 , -0.20675293, -0.05378103, -0.18579192,  0.1006619 ,\n",
       "            0.150027  , -0.04545143],\n",
       "          [ 0.30621448, -0.14270234,  0.04068206, -0.01883004, -0.11185847,\n",
       "            0.19403663,  0.26051953,  0.26799816, -0.05479859, -0.16017172,\n",
       "           -0.23074214, -0.2601414 ,  0.22141157, -0.0200295 , -0.27390543,\n",
       "           -0.22460411, -0.48180026],\n",
       "          [ 0.04362525, -0.3019217 , -0.4877747 ,  0.10250197, -0.20219572,\n",
       "           -0.49151045, -0.37999022,  0.17338637, -0.28426954,  0.16805133,\n",
       "           -0.32359466,  0.17922196, -0.05745212,  0.10425968,  0.14990558,\n",
       "           -0.20312735,  0.14981948],\n",
       "          [ 0.12676269,  0.10485905,  0.08736528, -0.3390923 , -0.09156469,\n",
       "           -0.00465364, -0.05218896,  0.07567649, -0.16637115, -0.147541  ,\n",
       "            0.27418852,  0.05180111, -0.31316835, -0.338521  ,  0.09069186,\n",
       "           -0.383811  , -0.30908608],\n",
       "          [-0.13839236,  0.43509287, -0.27281505,  0.27679968,  0.31995186,\n",
       "            0.5376611 ,  0.2604055 , -0.5576172 , -0.3026384 , -0.4298231 ,\n",
       "            0.08524342,  0.02024582, -0.36994123, -0.14855638, -0.31262115,\n",
       "           -0.39400607, -0.08624987],\n",
       "          [-0.05479307,  0.12816347,  0.16264719, -0.61616343,  0.11778039,\n",
       "            0.09573526, -0.33875802, -0.5838391 , -0.11759067, -0.21464106,\n",
       "            0.00438025, -0.10676309,  0.14901312, -0.09150267,  0.12295005,\n",
       "           -0.12486606,  0.0607712 ],\n",
       "          [ 0.2526748 , -0.40195134,  0.34563467,  0.41161394,  0.19759233,\n",
       "           -0.0582739 ,  0.299664  , -0.47443384, -0.11085071, -0.16206068,\n",
       "            0.24725536, -0.14726718,  0.20188971, -0.07118589,  0.1140289 ,\n",
       "            0.05849896, -0.46303803],\n",
       "          [-0.0699582 ,  0.37176004,  0.0082418 ,  0.51682556,  0.11534409,\n",
       "           -0.30427742,  0.10807315, -0.4985869 , -0.25468817, -0.06172527,\n",
       "            0.21183325, -0.19993195, -0.1038423 ,  0.03481259, -0.26412326,\n",
       "            0.11477676, -0.08362415],\n",
       "          [-0.15628006,  0.24239136,  0.02431832,  0.00775217, -0.02890217,\n",
       "            0.32852063, -0.25567475, -0.03703267, -0.08092397, -0.19805248,\n",
       "            0.23028411,  0.06647671,  0.03400442, -0.11614776, -0.06827739,\n",
       "            0.1614336 , -0.0792382 ],\n",
       "          [ 0.31489652,  0.09334338,  0.06455449, -0.16342124,  0.067142  ,\n",
       "            0.16312538,  0.22055024,  0.25419572, -0.44455153, -0.41726258,\n",
       "            0.12328993, -0.33339232,  0.23541425, -0.33402696,  0.10985293,\n",
       "           -0.23690975,  0.05363823],\n",
       "          [ 0.02702515,  0.1414432 ,  0.24256359,  0.2060326 , -0.28756604,\n",
       "           -0.13634196,  0.2460611 , -0.46081707,  0.0682493 , -0.02981687,\n",
       "           -0.16256672, -0.14461651,  0.03754853,  0.13699636, -0.29135248,\n",
       "            0.05763443, -0.25751743],\n",
       "          [-0.1671708 ,  0.28834522,  0.36943874,  0.309314  , -0.0967581 ,\n",
       "            0.15384078,  0.00599916, -0.05307173, -0.06291509, -0.38062534,\n",
       "           -0.23228197,  0.16870508,  0.09355478,  0.07749481, -0.15590757,\n",
       "            0.09358624, -0.04526252],\n",
       "          [ 0.19795038,  0.10492661, -0.26348403, -0.17983373,  0.00804632,\n",
       "           -0.12719761, -0.25765797, -0.01433677, -0.04296417, -0.42513683,\n",
       "            0.11506381,  0.05467183,  0.11581894, -0.42587993, -0.40694073,\n",
       "           -0.20666204, -0.03076549],\n",
       "          [-0.16583277, -0.08709923,  0.1387672 , -0.15978396, -0.3790033 ,\n",
       "            0.16088675, -0.08568645, -0.06218282, -0.20508777,  0.0129351 ,\n",
       "           -0.0391916 ,  0.00937889, -0.14875598, -0.4117067 ,  0.01896103,\n",
       "           -0.09946118, -0.2781229 ],\n",
       "          [-0.04197428,  0.57667226,  0.09308953,  0.45081148, -0.31671852,\n",
       "            0.26867265, -0.4966853 , -0.5913944 , -0.13634713, -0.33335593,\n",
       "           -0.24883267, -0.2085021 ,  0.11417025,  0.13629317, -0.3022307 ,\n",
       "            0.05935734, -0.25965425],\n",
       "          [-0.19132915,  0.225167  ,  0.2339446 ,  0.46106875, -0.22598344,\n",
       "           -0.05519951, -0.13944165,  0.23725553, -0.41910526,  0.11026368,\n",
       "            0.05212516, -0.2283188 ,  0.07953454, -0.1842102 , -0.12439401,\n",
       "            0.08546311, -0.0307536 ],\n",
       "          [ 0.04970253, -0.2958447 , -0.07901035, -0.677489  ,  0.17383835,\n",
       "            0.20426393, -0.06774233, -0.08978765, -0.26683757, -0.01050613,\n",
       "           -0.06872326,  0.11449847, -0.00953916,  0.13674904,  0.0059044 ,\n",
       "            0.17784296,  0.06955306],\n",
       "          [ 0.35814208,  0.1304511 , -0.37693554, -0.15769972, -0.21559781,\n",
       "           -0.17948674,  0.20620067, -0.11909816, -0.41487548,  0.08124671,\n",
       "            0.27925676, -0.35251492, -0.27753925, -0.13178429, -0.4038704 ,\n",
       "           -0.2908237 ,  0.07052413],\n",
       "          [ 0.16077991, -0.26932573,  0.4221246 , -0.04112213,  0.14905414,\n",
       "           -0.26085034, -0.22515711, -0.07538778, -0.2481279 , -0.23672563,\n",
       "           -0.33764547, -0.36990955,  0.09256133, -0.01178726, -0.05421375,\n",
       "            0.01463243,  0.02314576],\n",
       "          [-0.02211919, -0.3176982 ,  0.08335019, -0.17982547, -0.30190444,\n",
       "           -0.23026377,  0.3925806 , -0.6879563 , -0.043831  ,  0.12616043,\n",
       "            0.23400186,  0.15588294, -0.5315979 , -0.19725977, -0.08286665,\n",
       "            0.07650536, -0.17861448],\n",
       "          [ 0.10366667,  0.04666691, -0.34720224, -0.10671499, -0.21519993,\n",
       "           -0.04612492, -0.26705903, -0.1722653 , -0.3634373 , -0.33615452,\n",
       "           -0.32127908, -0.15059258,  0.13390933, -0.30052423,  0.11685736,\n",
       "            0.01816659,  0.03839108],\n",
       "          [ 0.36815757,  0.13369262,  0.3687693 ,  0.11530861, -0.13945916,\n",
       "            0.03400741, -0.07518681, -0.25917152, -0.45281374, -0.02711222,\n",
       "           -0.2775811 , -0.10584304, -0.07418858, -0.370205  , -0.39590627,\n",
       "           -0.24206549, -0.07319061],\n",
       "          [ 0.24884228, -0.1255174 ,  0.02602147,  0.36200932,  0.14539763,\n",
       "           -0.18748458,  0.09255068,  0.2274775 , -0.10278562, -0.03702844,\n",
       "           -0.14387622, -0.2511261 , -0.02259078, -0.3996753 ,  0.09711268,\n",
       "           -0.10467529, -0.10949253],\n",
       "          [ 0.2362758 , -0.42542306, -0.35104498,  0.2967399 , -0.3436548 ,\n",
       "           -0.10478111, -0.0909433 , -0.35808283, -0.03669455, -0.28918672,\n",
       "            0.28062105, -0.13739058,  0.0374613 , -0.38729087, -0.16468725,\n",
       "           -0.30055338, -0.15386283],\n",
       "          [-0.0599944 ,  0.00530757, -0.488937  ,  0.73534733,  0.19009957,\n",
       "           -0.2883718 , -0.47657195,  0.35152748, -0.26853865, -0.22991231,\n",
       "            0.18312371, -0.00123857, -0.2929183 , -0.16290168, -0.14989819,\n",
       "           -0.05623373, -0.38755178],\n",
       "          [-0.15051118,  0.09346513, -0.29506707,  0.63844126, -0.44310287,\n",
       "            0.17167465, -0.11284285, -0.15571064, -0.19545007, -0.01293307,\n",
       "            0.1777907 ,  0.12723869, -0.20235993, -0.0902448 , -0.07355031,\n",
       "           -0.24281275, -0.22143476],\n",
       "          [-0.1525411 , -0.40593854,  0.4244349 , -0.546262  ,  0.02371475,\n",
       "           -0.33942184,  0.28618252, -0.41746148,  0.08441798, -0.2891249 ,\n",
       "            0.1735543 ,  0.1492008 , -0.31620774, -0.41529337, -0.22849359,\n",
       "           -0.2505227 ,  0.14997607],\n",
       "          [ 0.31690615, -0.05951584, -0.19536607, -0.19728246,  0.18527348,\n",
       "           -0.17735009,  0.0133403 , -0.14000233, -0.28538623, -0.21784498,\n",
       "            0.30886382, -0.44896302, -0.20283979, -0.30044654, -0.37679484,\n",
       "           -0.2558224 , -0.4552829 ],\n",
       "          [ 0.29366907, -0.205497  , -0.24999708, -0.18611217,  0.05226969,\n",
       "           -0.35034835, -0.2089519 ,  0.14530268, -0.0128392 ,  0.0649872 ,\n",
       "            0.19276658, -0.43129778,  0.0456963 , -0.01130856, -0.14643255,\n",
       "            0.16343948, -0.3098217 ],\n",
       "          [ 0.05376657, -0.29668215,  0.039136  , -0.20073313,  0.03392475,\n",
       "           -0.29049087, -0.17416288, -0.21991082, -0.22135079, -0.4412805 ,\n",
       "           -0.3893784 , -0.32749793, -0.2308161 , -0.11061505, -0.41715103,\n",
       "            0.03541999, -0.14218539],\n",
       "          [ 0.32004014,  0.15266545,  0.25029472, -0.17190461, -0.32469106,\n",
       "            0.1700065 ,  0.24750988, -0.3018548 ,  0.05881449,  0.08641306,\n",
       "           -0.17890738,  0.05489371, -0.27386272,  0.0436589 , -0.07752731,\n",
       "           -0.09990764, -0.13594718],\n",
       "          [ 0.18198133, -0.15600184, -0.33138317, -0.24967472, -0.01327655,\n",
       "            0.02227089, -0.19307664, -0.631499  ,  0.06265244,  0.00815116,\n",
       "           -0.03124623, -0.35298985, -0.25708917, -0.06052973, -0.25812876,\n",
       "           -0.0436586 ,  0.02315762],\n",
       "          [ 0.09379297, -0.46209705, -0.32167754, -0.32520834, -0.26519734,\n",
       "           -0.07936094, -0.17184363, -0.41374332,  0.12419743, -0.14801987,\n",
       "            0.17565747, -0.252838  , -0.08547048, -0.303641  , -0.1159123 ,\n",
       "            0.02362095,  0.05073581],\n",
       "          [ 0.1036347 , -0.8831172 , -0.68028367, -0.37021846,  0.08318506,\n",
       "           -0.5616573 ,  0.3106033 ,  0.4126441 , -0.25721917, -0.18754916,\n",
       "           -0.21806063, -0.14442232,  0.05261587, -0.35041568, -0.14916553,\n",
       "            0.07297481, -0.17997536],\n",
       "          [ 0.05300924, -0.5010766 ,  0.2903536 , -0.3553828 , -0.16421977,\n",
       "            0.36168697, -0.29118994,  0.13012964, -0.22613797,  0.07830267,\n",
       "           -0.22079568,  0.14845422, -0.23744342, -0.3990734 , -0.37885493,\n",
       "           -0.02831633, -0.22508048],\n",
       "          [-0.11712531,  0.5692165 , -0.20769979,  0.17718163,  0.18583371,\n",
       "            0.00303137,  0.01600397, -0.44860458,  0.05236188, -0.12436965,\n",
       "           -0.09630281,  0.09682573, -0.2550023 , -0.0571213 , -0.31947985,\n",
       "            0.18841821, -0.18894802],\n",
       "          [ 0.19445059, -0.12237927, -0.40012267,  0.04768877, -0.16622853,\n",
       "            0.08371953,  0.22017337, -0.2438929 ,  0.05530532,  0.04092684,\n",
       "           -0.23162578, -0.00217485,  0.04329313, -0.2836726 , -0.4292835 ,\n",
       "            0.13229537, -0.32806924],\n",
       "          [ 0.050593  ,  0.2545594 ,  0.32343236,  0.16233096, -0.24196357,\n",
       "            0.3403607 , -0.06166743,  0.20424783, -0.25289595,  0.10502475,\n",
       "           -0.21521638, -0.21181639,  0.06473909, -0.34519982, -0.16062431,\n",
       "           -0.3677871 , -0.39027497],\n",
       "          [ 0.22148061, -0.26804277,  0.2637222 ,  0.20199454, -0.30432653,\n",
       "           -0.18041149, -0.23145507,  0.09712239, -0.07846208, -0.02254133,\n",
       "            0.05733046, -0.18380852,  0.03162258, -0.297585  , -0.09341501,\n",
       "            0.16011807, -0.03785025],\n",
       "          [-0.01385393, -0.4587938 ,  0.00361837,  0.5197251 , -0.12354551,\n",
       "           -0.13589424, -0.55271256, -0.69913304, -0.2007166 ,  0.09365015,\n",
       "            0.38969597, -0.02603551, -0.514887  , -0.16416879,  0.01131988,\n",
       "           -0.2135078 , -0.07382793],\n",
       "          [-0.02575251,  0.45085448, -0.27014852, -0.37106657, -0.0707083 ,\n",
       "           -0.03371745, -0.00120296,  0.47358206, -0.38741097, -0.45541885,\n",
       "            0.0630611 , -0.38788146,  0.23886636, -0.39839965, -0.14073944,\n",
       "            0.03944197, -0.27393556],\n",
       "          [ 0.09982323,  0.2920845 ,  0.51677877,  0.07099858,  0.22951646,\n",
       "           -0.13681862, -0.10761804, -0.20013337, -0.052896  , -0.1546044 ,\n",
       "           -0.00670497, -0.27760977, -0.42740613,  0.08194707, -0.33817098,\n",
       "           -0.04717202, -0.05337723]], dtype=float32),\n",
       "   array([ 0.10293337,  0.01469615,  0.09302258,  0.16319835, -0.07399487,\n",
       "           0.14340524, -0.02637873, -0.09582004, -0.21871532, -0.18530995,\n",
       "          -0.01638898, -0.20731696, -0.0857765 , -0.20857577, -0.1986461 ,\n",
       "          -0.14629534, -0.20879348], dtype=float32)),\n",
       "  ()),\n",
       " ((), (((), ((), ())), ((), ()), ()), (), ()))"
      ]
     },
     "execution_count": 25,
     "metadata": {},
     "output_type": "execute_result"
    }
   ],
   "source": [
    "# loading in a pretrained model..\n",
    "model = NER()\n",
    "model.init(trax.shapes.ShapeDtype((1, 1), dtype=np.int32))\n",
    "\n",
    "# Load the pretrained model\n",
    "model.init_from_file('model_ok/model.pkl.gz', weights_only=True)"
   ]
  },
  {
   "cell_type": "markdown",
   "metadata": {
    "colab_type": "text",
    "id": "c4r-gXOZLr3j"
   },
   "source": [
    "<a name=\"6\"></a>\n",
    "## <font color='blue'> <b> 6. Compute accuracy </b> </font>\n",
    "\n",
    "\n",
    "You will now evaluate in the test set. Previously, you have seen the accuracy on the training set and the validation (noted as eval) set. You will now evaluate on your test set. To get a good evaluation, you will need to create a mask to avoid counting the padding tokens when computing the accuracy. \n",
    "\n",
    "<a name=\"ex04\"></a>\n",
    "### Exercise 04\n",
    "\n",
    "**Instructions:** Write a program that takes in your model and uses it to evaluate on the test set. You should be able to get an accuracy of 95%.  \n"
   ]
  },
  {
   "cell_type": "markdown",
   "metadata": {
    "colab_type": "text",
    "id": "AmIvd_GXnCuk"
   },
   "source": [
    "\n",
    "<details>    \n",
    "<summary>\n",
    "    <font size=\"3\" color=\"darkgreen\"><b>More Detailed Instructions </b></font>\n",
    "</summary>\n",
    "\n",
    "* *Step 1*: model(sentences) will give you the predicted output. \n",
    "\n",
    "* *Step 2*: Prediction will produce an output with an added dimension. For each sentence, for each word, there will be a vector of probabilities for each tag type. For each sentence,word, you need to pick the maximum valued tag. This will require `np.argmax` and careful use of the `axis` argument.\n",
    "* *Step 3*: Create a mask to prevent counting pad characters. It has the same dimension as output. An example below on matrix comparison provides a hint.\n",
    "* *Step 4*: Compute the accuracy metric by comparing your outputs against your test labels. Take the sum of that and divide by the total number of **unpadded** tokens. Use your mask value to mask the padded tokens. Return the accuracy. \n",
    "</detail>"
   ]
  },
  {
   "cell_type": "code",
   "execution_count": 26,
   "metadata": {
    "colab": {
     "base_uri": "https://localhost:8080/",
     "height": 34
    },
    "colab_type": "code",
    "id": "qaSy_NywnCul",
    "outputId": "7ceb7d3f-6948-48e0-afd9-003bfe0d0a70",
    "scrolled": true
   },
   "outputs": [
    {
     "data": {
      "text/plain": [
       "array([False,  True, False, False])"
      ]
     },
     "execution_count": 26,
     "metadata": {},
     "output_type": "execute_result"
    }
   ],
   "source": [
    "#Example of a comparision on a matrix \n",
    "a = np.array([1, 2, 3, 4])\n",
    "a == 2"
   ]
  },
  {
   "cell_type": "code",
   "execution_count": 27,
   "metadata": {
    "colab": {
     "base_uri": "https://localhost:8080/",
     "height": 34
    },
    "colab_type": "code",
    "id": "3H0Kx1rnnCun",
    "outputId": "cf3789c6-374e-402b-e833-8a2e5c5d8d33",
    "scrolled": true
   },
   "outputs": [
    {
     "name": "stdout",
     "output_type": "stream",
     "text": [
      "input shapes (7194, 70) (7194, 70)\n"
     ]
    }
   ],
   "source": [
    "# create the evaluation inputs\n",
    "x, y = next(data_generator(len(test_sentences), test_sentences, test_labels, vocab['<PAD>']))\n",
    "print(\"input shapes\", x.shape, y.shape)"
   ]
  },
  {
   "cell_type": "code",
   "execution_count": 28,
   "metadata": {
    "colab": {
     "base_uri": "https://localhost:8080/",
     "height": 51
    },
    "colab_type": "code",
    "id": "rh16zSTonCuq",
    "outputId": "26aaa4e9-b34b-4c0a-99e4-35c0af52470b"
   },
   "outputs": [
    {
     "name": "stdout",
     "output_type": "stream",
     "text": [
      "<class 'jaxlib.xla_extension.ArrayImpl'>\n",
      "tmp_pred has shape: (7194, 70, 17)\n"
     ]
    }
   ],
   "source": [
    "# sample prediction\n",
    "tmp_pred = model(x)\n",
    "print(type(tmp_pred))\n",
    "print(f\"tmp_pred has shape: {tmp_pred.shape}\")"
   ]
  },
  {
   "cell_type": "markdown",
   "metadata": {
    "colab_type": "text",
    "id": "78l5MTSBnCut"
   },
   "source": [
    "Note that the model's prediction has 3 axes: \n",
    "- the number of examples\n",
    "- the number of words in each example (padded to be as long as the longest sentence in the batch)\n",
    "- the number of possible targets (the 17 named entity tags)."
   ]
  },
  {
   "cell_type": "code",
   "execution_count": 29,
   "metadata": {
    "colab": {},
    "colab_type": "code",
    "id": "8ek59ro9nCut"
   },
   "outputs": [],
   "source": [
    "def evaluate_prediction(pred, labels, pad):\n",
    "    \"\"\"\n",
    "    Inputs:\n",
    "        pred: prediction array with shape \n",
    "            (num examples, max sentence length in batch, num of classes)\n",
    "        labels: array of size (batch_size, seq_len)\n",
    "        pad: integer representing pad character\n",
    "    Outputs:\n",
    "        accuracy: float\n",
    "    \"\"\"\n",
    "\n",
    "    ## step 1 ##\n",
    "    outputs = np.argmax(pred, axis=2)\n",
    "    print(\"outputs shape:\", outputs.shape)\n",
    "\n",
    "    ## step 2 ##\n",
    "    mask = labels != pad\n",
    "    print(\"mask shape:\", mask.shape, \"mask[0][20:30]:\", mask[0][20:30])\n",
    "    \n",
    "    ## step 3 ##\n",
    "    accuracy = np.sum(outputs == labels) / float(np.sum(mask))\n",
    "\n",
    "    return accuracy\n"
   ]
  },
  {
   "cell_type": "code",
   "execution_count": 30,
   "metadata": {
    "colab": {
     "base_uri": "https://localhost:8080/",
     "height": 68
    },
    "colab_type": "code",
    "id": "yCWFwt3m1sgL",
    "outputId": "701d6b4d-b9b6-41f7-80b3-d0c043880704",
    "scrolled": true
   },
   "outputs": [
    {
     "name": "stdout",
     "output_type": "stream",
     "text": [
      "outputs shape: (7194, 70)\n",
      "mask shape: (7194, 70) mask[0][20:30]: [ True  True  True False False False False False False False]\n",
      "accuracy:  0.9100196\n"
     ]
    }
   ],
   "source": [
    "accuracy = evaluate_prediction(model(x), y, vocab['<PAD>'])\n",
    "print(\"accuracy: \", accuracy)"
   ]
  },
  {
   "cell_type": "markdown",
   "metadata": {
    "colab_type": "text",
    "id": "NcTJupqo5RcP"
   },
   "source": [
    "**Expected output (Approximately)**   \n",
    "```\n",
    "outputs shape: (7194, 70)\n",
    "mask shape: (7194, 70) mask[0][20:30]: [ True  True  True False False False False False False False]\n",
    "accuracy:  0.9543761281155191\n",
    "```\n"
   ]
  },
  {
   "cell_type": "markdown",
   "metadata": {
    "colab_type": "text",
    "id": "b2FEleAFLr3r"
   },
   "source": [
    "<a name=\"7\"></a>\n",
    "## <font color='blue'> <b> 7. Testing with your own sentence </b> </font>"
   ]
  },
  {
   "cell_type": "markdown",
   "metadata": {
    "colab_type": "text",
    "id": "EOeTPAx_Lr3t"
   },
   "source": [
    "Below, you can test it out with your own sentence! "
   ]
  },
  {
   "cell_type": "code",
   "execution_count": 31,
   "metadata": {
    "colab": {},
    "colab_type": "code",
    "id": "0K4SyB20cHRf",
    "scrolled": true
   },
   "outputs": [],
   "source": [
    "# This is the function you will be using to test your own sentence.\n",
    "def predict(sentence, model, vocab, tag_map):\n",
    "    s = [vocab[token] if token in vocab else vocab['UNK'] for token in sentence.split(' ')]\n",
    "    batch_data = np.ones((1, len(s)))\n",
    "    batch_data[0][:] = s\n",
    "    sentence = np.array(batch_data).astype(int)\n",
    "    output = model(sentence)\n",
    "    outputs = np.argmax(output, axis=2)\n",
    "    labels = list(tag_map.keys())\n",
    "    pred = []\n",
    "    for i in range(len(outputs[0])):\n",
    "        idx = outputs[0][i] \n",
    "        pred_label = labels[idx]\n",
    "        pred.append(pred_label)\n",
    "    return pred"
   ]
  },
  {
   "cell_type": "code",
   "execution_count": 32,
   "metadata": {
    "colab": {
     "base_uri": "https://localhost:8080/",
     "height": 170
    },
    "colab_type": "code",
    "id": "vLZCHoiULr3u",
    "outputId": "fab815fd-0472-4eaf-968a-abff1f5cfff5",
    "scrolled": true
   },
   "outputs": [
    {
     "name": "stdout",
     "output_type": "stream",
     "text": [
      "Peter I-per\n",
      "White B-geo\n",
      "House I-org\n",
      "Sunday B-tim\n",
      "White B-geo\n",
      "House I-org\n"
     ]
    }
   ],
   "source": [
    "# Try the output for the introduction example\n",
    "#sentence = \"Many French citizens are goin to visit Morocco for summer\"\n",
    "#sentence = \"Sharon Floyd flew to Miami last Friday\"\n",
    "\n",
    "# New york times news:\n",
    "sentence = \"Peter Navarro, the White House director of trade and manufacturing policy of U.S, said in an interview on Sunday morning that the White House was working to prepare for the possibility of a second wave of the coronavirus in the fall, though he said it wouldn’t necessarily come\"\n",
    "s = [vocab[token] if token in vocab else vocab['UNK'] for token in sentence.split(' ')]\n",
    "predictions = predict(sentence, model, vocab, tag_map)\n",
    "for x,y in zip(sentence.split(' '), predictions):\n",
    "    if y != 'O':\n",
    "        print(x,y)"
   ]
  },
  {
   "cell_type": "markdown",
   "metadata": {
    "colab_type": "text",
    "id": "NHYbSnYKnCu6"
   },
   "source": [
    "** Expected Results **\n",
    "\n",
    "```\n",
    "Peter B-per\n",
    "Navarro, I-per\n",
    "White B-org\n",
    "House I-org\n",
    "Sunday B-tim\n",
    "morning I-tim\n",
    "White B-org\n",
    "House I-org\n",
    "coronavirus B-tim\n",
    "fall, B-tim\n",
    "```"
   ]
  }
 ],
 "metadata": {
  "accelerator": "GPU",
  "colab": {
   "collapsed_sections": [],
   "name": "C3_W3_Assignment_Solution.ipynb",
   "provenance": [],
   "toc_visible": true
  },
  "coursera": {
   "schema_names": [
    "NLPC3-3A"
   ]
  },
  "kernelspec": {
   "display_name": "Python 3 (ipykernel)",
   "language": "python",
   "name": "python3"
  },
  "language_info": {
   "codemirror_mode": {
    "name": "ipython",
    "version": 3
   },
   "file_extension": ".py",
   "mimetype": "text/x-python",
   "name": "python",
   "nbconvert_exporter": "python",
   "pygments_lexer": "ipython3",
   "version": "3.10.12"
  }
 },
 "nbformat": 4,
 "nbformat_minor": 1
}
